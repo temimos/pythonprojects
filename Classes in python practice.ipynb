{
 "cells": [
  {
   "cell_type": "code",
   "execution_count": 16,
   "metadata": {},
   "outputs": [],
   "source": [
    "class FlightItem(object):\n",
    "    def __init__(self, n, v, w, departure, destination, travel_time,air_fare,travel_distance):\n",
    "        self.name = n\n",
    "        self.value = v\n",
    "        self.weight = travel_time\n",
    "        self.departure = departure\n",
    "        self.destination = destination\n",
    "        self.travel_time = travel_time\n",
    "        self.air_fare = air_fare\n",
    "        self.travel_distance = travel_distance\n",
    "   \n",
    "        \n",
    "    def get_name(self):\n",
    "        return self.name\n",
    "    \n",
    "    def get_value(self):\n",
    "        return self.value\n",
    "    \n",
    "    def get_weight(self):\n",
    "        return self.weight\n",
    "    \n",
    "    def get_departure(self):\n",
    "        return self.departure\n",
    "    \n",
    "    def get_travel_distance(self):\n",
    "        return self.travel_distance\n",
    "    \n",
    "    def get_travel_time(self):\n",
    "        return self.travel_time\n",
    "    \n",
    "    def get_air_fare(self):\n",
    "        return self.air_fare\n",
    "    \n",
    "    def get_travel_distance(self):\n",
    "        return self.travel_distance\n",
    "    \n",
    "    \n",
    "    def __str__(self):\n",
    "        result = '<' + self.name + ', ' + str(self.value)\\\n",
    "        + ', ' + str(self.weight) + '>'\n",
    "        return result\n",
    "\n",
    "def value(item):\n",
    "    return item.get_value()\n",
    "\n",
    "def weight_inverse(item):\n",
    "    return 1.0 / item.get_weight()\n",
    "\n",
    "def density(item):\n",
    "    return item.get_value() / item.get_weight()\n",
    "\n"
   ]
  },
  {
   "cell_type": "code",
   "execution_count": 17,
   "metadata": {
    "colab": {},
    "colab_type": "code",
    "id": "RFbQicnuTA7V"
   },
   "outputs": [],
   "source": [
    "# Greedy Algorithm Implementation\n",
    "def greedy(items, max_weight, key_function):\n",
    "    \"\"\"Assumes items a list, max_weight >= 0,\n",
    "       key_function maps elements of items to numbers\"\"\"\n",
    "    items_copy = sorted(items, key=key_function, reverse=True)\n",
    "    result = []\n",
    "    total_value, total_weight = 0.0, 0.0\n",
    "    for i in range(len(items_copy)):\n",
    "        if (total_weight + items_copy[i].get_weight()) <= max_weight:\n",
    "            result.append(items_copy[i])\n",
    "            total_weight += items_copy[i].get_weight()\n",
    "            total_value += items_copy[i].get_value()\n",
    "    return (result, total_value)"
   ]
  },
  {
   "cell_type": "code",
   "execution_count": 18,
   "metadata": {
    "colab": {},
    "colab_type": "code",
    "id": "HNrUuTiHOD8-"
   },
   "outputs": [],
   "source": [
    "def build_items():\n",
    "    names = ['clock', 'painting', 'radio', 'vase', 'book', 'computer']\n",
    "    values = [175, 90, 20, 50, 10, 200]\n",
    "    weights = [10, 9, 4, 2, 1, 20]\n",
    "    names = ['flight 111', 'flight 222', 'flight 333', 'flight 444', 'flight 555', 'flight 656', 'flight 777']\n",
    "    departure = ['ALB', 'BWI', 'BOS', 'DEN', 'DFW', 'LAX', 'SFO' ]\n",
    "    destination = ['DFW', 'SFO', 'SFO', ' LAX', 'BWI', 'DFW', 'DEN' ]\n",
    "    travel_distance = [1650, 2825, 3106, 1056, 1381, 1443, 1258]\n",
    "    travel_time = [120, 300, 360, 180, 150, 90, 110]\n",
    "    air_fare = [200.00, 300.00, 650.00, 150.00, 220.00, 315.00, 300.00]\n",
    "    items = []\n",
    "    for i in range(len(values)):\n",
    "        items.append(FlightItem(names[i], values[i], weights [i] , departure [i], destination [i], travel_time [i], air_fare [i],  travel_distance [i]))\n",
    "    return items\n",
    "\n",
    "def test_greedy(items, max_weight, key_function):\n",
    "    taken, val = greedy(items, max_weight, key_function)\n",
    "    print('Total value of items taken is', val)\n",
    "    for item in taken:\n",
    "        print('   ', item)"
   ]
  },
  {
   "cell_type": "markdown",
   "metadata": {
    "colab_type": "text",
    "id": "NBCjGctjaprl"
   },
   "source": [
    "Testing *greedy()* using different ways of ordering the items list."
   ]
  },
  {
   "cell_type": "code",
   "execution_count": 19,
   "metadata": {
    "colab": {},
    "colab_type": "code",
    "id": "f8pjJeH1apES"
   },
   "outputs": [],
   "source": [
    "def test_greedys(max_weight = 50):\n",
    "    items = build_items()\n",
    "    print('Use greedy by value to fill knapsack of size', max_weight)\n",
    "    test_greedy(items, max_weight, value)\n",
    "    print('\\nUse greedy by weight to fill knapsack of size', max_weight)\n",
    "    test_greedy(items, max_weight, weight_inverse)\n",
    "    print('\\nUse greedy by density to fill knapsack of size', max_weight)\n",
    "    test_greedy(items, max_weight, density)"
   ]
  },
  {
   "cell_type": "code",
   "execution_count": 20,
   "metadata": {
    "colab": {
     "base_uri": "https://localhost:8080/",
     "height": 283
    },
    "colab_type": "code",
    "executionInfo": {
     "elapsed": 361,
     "status": "error",
     "timestamp": 1585359108836,
     "user": {
      "displayName": "Donghwa Kim",
      "photoUrl": "https://lh3.googleusercontent.com/a-/AOh14Gh-I8b-URH1zCaDAJ93rzq3Wywh89Aw517pCVES9Q=s64",
      "userId": "15087115447261542286"
     },
     "user_tz": 240
    },
    "id": "VA3E26Y-b2Un",
    "outputId": "0645af30-2dbd-4dcb-a02e-6ef4dbcf120e"
   },
   "outputs": [
    {
     "name": "stdout",
     "output_type": "stream",
     "text": [
      "Use greedy by value to fill knapsack of size 50\n",
      "Total value of items taken is 0.0\n",
      "\n",
      "Use greedy by weight to fill knapsack of size 50\n",
      "Total value of items taken is 0.0\n",
      "\n",
      "Use greedy by density to fill knapsack of size 50\n",
      "Total value of items taken is 0.0\n"
     ]
    }
   ],
   "source": [
    "test_greedys()"
   ]
  },
  {
   "cell_type": "code",
   "execution_count": 21,
   "metadata": {},
   "outputs": [
    {
     "name": "stdout",
     "output_type": "stream",
     "text": [
      "Use greedy by value to fill knapsack of size 100\n",
      "Total value of items taken is 200.0\n",
      "    <flight 656, 200, 90>\n",
      "\n",
      "Use greedy by weight to fill knapsack of size 100\n",
      "Total value of items taken is 200.0\n",
      "    <flight 656, 200, 90>\n",
      "\n",
      "Use greedy by density to fill knapsack of size 100\n",
      "Total value of items taken is 200.0\n",
      "    <flight 656, 200, 90>\n"
     ]
    }
   ],
   "source": [
    "test_greedys(100)"
   ]
  },
  {
   "cell_type": "code",
   "execution_count": 22,
   "metadata": {},
   "outputs": [
    {
     "name": "stdout",
     "output_type": "stream",
     "text": [
      "Use greedy by value to fill knapsack of size 200\n",
      "Total value of items taken is 200.0\n",
      "    <flight 656, 200, 90>\n",
      "\n",
      "Use greedy by weight to fill knapsack of size 200\n",
      "Total value of items taken is 200.0\n",
      "    <flight 656, 200, 90>\n",
      "\n",
      "Use greedy by density to fill knapsack of size 200\n",
      "Total value of items taken is 200.0\n",
      "    <flight 656, 200, 90>\n"
     ]
    }
   ],
   "source": [
    "test_greedys(200)\n",
    " \n"
   ]
  },
  {
   "cell_type": "code",
   "execution_count": 23,
   "metadata": {},
   "outputs": [
    {
     "name": "stdout",
     "output_type": "stream",
     "text": [
      "Use greedy by value to fill knapsack of size 300\n",
      "Total value of items taken is 375.0\n",
      "    <flight 656, 200, 90>\n",
      "    <flight 111, 175, 120>\n",
      "\n",
      "Use greedy by weight to fill knapsack of size 300\n",
      "Total value of items taken is 375.0\n",
      "    <flight 656, 200, 90>\n",
      "    <flight 111, 175, 120>\n",
      "\n",
      "Use greedy by density to fill knapsack of size 300\n",
      "Total value of items taken is 375.0\n",
      "    <flight 656, 200, 90>\n",
      "    <flight 111, 175, 120>\n"
     ]
    }
   ],
   "source": [
    "test_greedys(300)"
   ]
  },
  {
   "cell_type": "code",
   "execution_count": null,
   "metadata": {},
   "outputs": [],
   "source": []
  }
 ],
 "metadata": {
  "colab": {
   "authorship_tag": "ABX9TyMsqBpRLvf6jJRI4lKB8wkc",
   "name": "Data690-03_Week9 Knapsack Graph Dynamic Programming.ipynb",
   "provenance": []
  },
  "kernelspec": {
   "display_name": "Python 3",
   "language": "python",
   "name": "python3"
  },
  "language_info": {
   "codemirror_mode": {
    "name": "ipython",
    "version": 3
   },
   "file_extension": ".py",
   "mimetype": "text/x-python",
   "name": "python",
   "nbconvert_exporter": "python",
   "pygments_lexer": "ipython3",
   "version": "3.7.4"
  }
 },
 "nbformat": 4,
 "nbformat_minor": 1
}
